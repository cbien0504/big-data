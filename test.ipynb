{
 "cells": [
  {
   "cell_type": "code",
   "execution_count": null,
   "metadata": {},
   "outputs": [],
   "source": [
    "from pyspark.sql import SparkSession\n",
    "spark = SparkSession.builder.getOrCreate()\n",
    "df = spark.read.format(\"json\").load(\"hdfs://localhost:9000/user/hdfs/tweets/*.json\")\n",
    "df.printSchema()"
   ]
  },
  {
   "cell_type": "code",
   "execution_count": 1,
   "metadata": {},
   "outputs": [
    {
     "name": "stdout",
     "output_type": "stream",
     "text": [
      "Index 'tweets' đã được xóa: {'acknowledged': True}\n"
     ]
    }
   ],
   "source": [
    "from elasticsearch import Elasticsearch\n",
    "\n",
    "es = Elasticsearch(\"http://localhost:9200\")  # Thay \"localhost:9200\" bằng URL cluster Elasticsearch của bạn\n",
    "name = \"tweets\"\n",
    "# if es.indices.exists(index=name):\n",
    "#     print(\"Index tồn tại.\")\n",
    "#     response = es.search(\n",
    "#         index=name,\n",
    "#         body={\n",
    "#             \"query\": {\"match_all\": {}},  \n",
    "#             \"size\": 10                  \n",
    "#         }\n",
    "#     )\n",
    "#     for hit in response['hits']['hits']:\n",
    "#         print(f\"ID: {hit['_id']}, Source: {hit['_source']}\")\n",
    "# else:\n",
    "#     print(\"Index không tồn tại.\")\n",
    "# response = es.count(index=name)\n",
    "# print(f\"Number of documents: {response['count']}\")\n",
    "\n",
    "index_name = \"tweets\"\n",
    "if es.indices.exists(index=index_name):\n",
    "    response = es.indices.delete(index=index_name)\n",
    "    print(f\"Index '{index_name}' đã được xóa: {response}\")\n",
    "else:\n",
    "    print(f\"Index '{index_name}' không tồn tại.\")"
   ]
  }
 ],
 "metadata": {
  "kernelspec": {
   "display_name": "Python 3",
   "language": "python",
   "name": "python3"
  },
  "language_info": {
   "codemirror_mode": {
    "name": "ipython",
    "version": 3
   },
   "file_extension": ".py",
   "mimetype": "text/x-python",
   "name": "python",
   "nbconvert_exporter": "python",
   "pygments_lexer": "ipython3",
   "version": "3.7.12"
  }
 },
 "nbformat": 4,
 "nbformat_minor": 2
}
